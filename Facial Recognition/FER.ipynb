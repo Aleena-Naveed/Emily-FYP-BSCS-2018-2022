{
  "cells": [
    {
      "cell_type": "markdown",
      "metadata": {
        "id": "Qk3F94qgIKYP"
      },
      "source": [
        "# Loading Dateset"
      ]
    },
    {
      "cell_type": "code",
      "execution_count": null,
      "metadata": {
        "id": "aPNWRgE6ITnV"
      },
      "outputs": [],
      "source": [
        "from google.colab import drive\n",
        "drive.mount('/content/drive')"
      ]
    },
    {
      "cell_type": "code",
      "execution_count": null,
      "metadata": {
        "id": "ynPRJTcDIgBk"
      },
      "outputs": [],
      "source": [
        "# importing required modules\n",
        "from zipfile import ZipFile\n",
        "  \n",
        "# specifying the zip file name\n",
        "file_name = \"/content/drive/MyDrive/Facial Expression/images.zip\"\n",
        "  \n",
        "# opening the zip file in READ mode\n",
        "with ZipFile(file_name, 'r') as zip:\n",
        "    # printing all the contents of the zip file\n",
        "    # zip.printdir()  \n",
        "    # extracting all the files\n",
        "    print('Extracting all the files now...')\n",
        "    zip.extractall()\n",
        "    print('Done!')"
      ]
    },
    {
      "cell_type": "code",
      "execution_count": null,
      "metadata": {
        "id": "MwPisDFUIKYT"
      },
      "outputs": [],
      "source": [
        "import os\n",
        "len(os.listdir(r'./images/train/happy'))"
      ]
    },
    {
      "cell_type": "markdown",
      "metadata": {
        "id": "pNU5LmP_IKYW"
      },
      "source": [
        "# Importing Libraries"
      ]
    },
    {
      "cell_type": "code",
      "execution_count": null,
      "metadata": {
        "id": "QtIvvo9pIKYY"
      },
      "outputs": [],
      "source": [
        "import matplotlib.pyplot as plt\n",
        "import numpy as np\n",
        "import pandas as pd\n",
        "import seaborn as sns\n",
        "import os\n",
        "\n",
        "# important important deep learning Library\n",
        "\n",
        "from keras.preprocessing.image import load_img, img_to_array\n",
        "from keras.preprocessing.image import ImageDataGenerator\n",
        "from keras.layers import Dense,Input,Dropout,GlobalAveragePooling2D,Flatten,Conv2D,BatchNormalization,Activation,MaxPooling2D\n",
        "from keras.models import Model,Sequential\n",
        "from tensorflow.keras.optimizers import SGD,RMSprop\n",
        "from tensorflow.keras.optimizers import Adam\n",
        "from tensorflow.keras.optimizers import RMSprop, SGD, Adam\n",
        "from keras.callbacks import ModelCheckpoint, EarlyStopping, ReduceLROnPlateau\n",
        "import tensorflow as tf"
      ]
    },
    {
      "cell_type": "markdown",
      "metadata": {
        "id": "iiFd4fcIIKYZ"
      },
      "source": [
        "# Creating Train / validation data sets\n",
        "Using Image Generators"
      ]
    },
    {
      "cell_type": "code",
      "execution_count": null,
      "metadata": {
        "id": "xVvxPmgBIKYZ"
      },
      "outputs": [],
      "source": [
        "batch_size = 128\n",
        "\n",
        "picture_size = 48\n",
        "folder_path = r'./images/'\n",
        "\n",
        "datagen_train  = ImageDataGenerator()\n",
        "datagen_val = ImageDataGenerator()\n",
        "\n",
        "train_set = datagen_train.flow_from_directory(folder_path+\"train\",\n",
        "                                              target_size = (picture_size,picture_size),\n",
        "                                              color_mode = \"grayscale\",\n",
        "                                              batch_size=batch_size,\n",
        "                                              class_mode='categorical',\n",
        "                                              shuffle=True)\n",
        "\n",
        "\n",
        "test_set = datagen_val.flow_from_directory(folder_path+\"validation\",\n",
        "                                              target_size = (picture_size,picture_size),\n",
        "                                              color_mode = \"grayscale\",\n",
        "                                              batch_size=batch_size,\n",
        "                                              class_mode='categorical',\n",
        "                                              shuffle=True)"
      ]
    },
    {
      "cell_type": "markdown",
      "metadata": {
        "id": "kUVeSIdJIKYa"
      },
      "source": [
        "# Creating the model"
      ]
    },
    {
      "cell_type": "code",
      "execution_count": null,
      "metadata": {
        "id": "AwvKmOQ5IKYa"
      },
      "outputs": [],
      "source": [
        "classes = 7\n",
        "model = Sequential()\n",
        "\n",
        "#1st CNN layer\n",
        "model.add(Conv2D(64, (3, 3), padding='valid', input_shape=(48, 48, 1), kernel_regularizer=tf.keras.regularizers.l2(0.01)))\n",
        "model.add(BatchNormalization())\n",
        "model.add(Activation('relu'))\n",
        "model.add(MaxPooling2D(pool_size=(2, 2)))\n",
        "model.add(Dropout(0.25))\n",
        "\n",
        "#2nd CNN layer\n",
        "model.add(Conv2D(128, (5, 5), padding='valid', kernel_regularizer=tf.keras.regularizers.l2(0.01)))\n",
        "model.add(BatchNormalization())\n",
        "model.add(Activation('relu'))\n",
        "model.add(MaxPooling2D(pool_size=(2, 2)))\n",
        "model.add(Dropout(0.25))\n",
        "\n",
        "#3rd CNN layer\n",
        "model.add(Conv2D(256, (3, 3), padding='valid'))\n",
        "model.add(BatchNormalization())\n",
        "model.add(Activation('relu'))\n",
        "model.add(MaxPooling2D(pool_size=(2, 2)))\n",
        "model.add(Dropout(0.25))\n",
        "\n",
        "#4th CNN layer\n",
        "# model.add(Conv2D(512, (3, 3), padding='valid'))\n",
        "# model.add(BatchNormalization())\n",
        "# model.add(Activation('relu'))\n",
        "# model.add(MaxPooling2D(pool_size=(2, 2)))\n",
        "# model.add(Dropout(0.25))\n",
        "\n",
        "model.add(Flatten())\n",
        "\n",
        "#Fully connected 1st layer\n",
        "model.add(Dense(128))\n",
        "model.add(BatchNormalization())\n",
        "model.add(Activation('relu'))\n",
        "model.add(Dropout(0.25))\n",
        "\n",
        "\n",
        "# Fully connected layer 2nd layer\n",
        "model.add(Dense(256))\n",
        "model.add(BatchNormalization())\n",
        "model.add(Activation('relu'))\n",
        "model.add(Dropout(0.25))\n",
        "\n",
        "model.add(Dense(classes, activation='softmax'))\n",
        "\n",
        "\n",
        "# opt = Adam(learning_rate=0.001)\n",
        "model.compile(optimizer=\"Adam\", loss='categorical_crossentropy',\n",
        "              metrics=['accuracy'])\n",
        "model.summary()\n"
      ]
    },
    {
      "cell_type": "markdown",
      "metadata": {
        "id": "UEQKDHYRIKYc"
      },
      "source": [
        "# Adding Checkpoints to save Best Epoch, Early Stopping and Learning Rate Optimization "
      ]
    },
    {
      "cell_type": "code",
      "execution_count": null,
      "metadata": {
        "id": "sZwyus1_IKYc"
      },
      "outputs": [],
      "source": [
        "checkpoint = ModelCheckpoint(\n",
        "    \"./model-{val_accuracy:.4f}.h5\", monitor='val_accuracy', save_best_only=True, mode='max')\n",
        "\n",
        "early_stopping = EarlyStopping(monitor='val_loss',\n",
        "                               min_delta=0,\n",
        "                               patience=10,\n",
        "                               verbose=1,\n",
        "                               restore_best_weights=True\n",
        "                               )\n",
        "\n",
        "reduce_learningrate = ReduceLROnPlateau(monitor='val_loss',\n",
        "                                        factor=0.2,\n",
        "                                        patience=3,\n",
        "                                        verbose=1,\n",
        "                                        min_delta=0.00001)\n",
        "\n",
        "callbacks_list = [ checkpoint]\n",
        "\n",
        "epochs = 100\n",
        "\n",
        "model.compile(loss='categorical_crossentropy',\n",
        "              optimizer=Adam(learning_rate=0.001),\n",
        "              metrics=['accuracy'])\n"
      ]
    },
    {
      "cell_type": "code",
      "execution_count": null,
      "metadata": {
        "id": "SItB-2PiIKYd"
      },
      "outputs": [],
      "source": [
        "weights = {\n",
        "    0: np.random.rand(),\n",
        "    1: np.random.rand(),\n",
        "    2: np.random.rand(),\n",
        "    3: np.random.rand(),\n",
        "    4: np.random.rand(),\n",
        "    5: np.random.rand(),\n",
        "    6: np.random.rand(),\n",
        "}\n",
        "\n",
        "history = model.fit(train_set,\n",
        "                              steps_per_epoch=train_set.n//train_set.batch_size,\n",
        "                              epochs=epochs,\n",
        "                              validation_data=test_set,\n",
        "                              validation_steps=test_set.n//test_set.batch_size,\n",
        "                              callbacks=callbacks_list\n",
        "                            #   class_weights = weights\n",
        "                              )\n"
      ]
    },
    {
      "cell_type": "code",
      "execution_count": null,
      "metadata": {
        "id": "Xg7MJ-4XMUlv"
      },
      "outputs": [],
      "source": [
        "model.evaluate_generator(test_set)\n",
        "test_model = tf.keras.models.load_model('/content/model-0.5922.h5')\n",
        "print(test_model.evaluate(test_set))\n",
        "print(test_model.evaluate(train_set))\n",
        "\n"
      ]
    }
  ],
  "metadata": {
    "accelerator": "GPU",
    "colab": {
      "collapsed_sections": [],
      "name": "FER.ipynb",
      "provenance": []
    },
    "interpreter": {
      "hash": "f18eb818c12c897c7cd6a9334b0d035f3a97139767af1d2a6f86b303032099af"
    },
    "kernelspec": {
      "display_name": "Python 3.8.5 64-bit ('base': conda)",
      "language": "python",
      "name": "python3"
    },
    "language_info": {
      "codemirror_mode": {
        "name": "ipython",
        "version": 3
      },
      "file_extension": ".py",
      "mimetype": "text/x-python",
      "name": "python",
      "nbconvert_exporter": "python",
      "pygments_lexer": "ipython3",
      "version": "3.8.5"
    },
    "orig_nbformat": 4
  },
  "nbformat": 4,
  "nbformat_minor": 0
}
